{
 "cells": [
  {
   "cell_type": "code",
   "execution_count": 23,
   "metadata": {},
   "outputs": [
    {
     "name": "stdout",
     "output_type": "stream",
     "text": [
      "                                                    data\n",
      "0      {'economic_stability': '27', 'education': 'Com...\n",
      "1      {'economic_stability': '08', 'education': 'Com...\n",
      "2      {'economic_stability': '13', 'education': None...\n",
      "3      {'economic_stability': '23', 'education': 'Com...\n",
      "4      {'economic_stability': '23', 'education': None...\n",
      "5      {'economic_stability': '25', 'education': None...\n",
      "6      {'economic_stability': '25', 'education': 'Com...\n",
      "7      {'economic_stability': '05', 'education': None...\n",
      "8      {'economic_stability': '06', 'education': 'Com...\n",
      "9      {'economic_stability': '17', 'education': None...\n",
      "10     {'economic_stability': '16', 'education': 'Com...\n",
      "11     {'economic_stability': '18', 'education': 'Com...\n",
      "12     {'economic_stability': '11', 'education': 'Com...\n",
      "13     {'economic_stability': '13', 'education': 'Com...\n",
      "14     {'economic_stability': '14', 'education': 'Com...\n",
      "15     {'economic_stability': '02', 'education': 'Com...\n",
      "16     {'economic_stability': '17', 'education': 'Com...\n",
      "17     {'economic_stability': '23', 'education': 'Com...\n",
      "18     {'economic_stability': '11', 'education': None...\n",
      "19     {'economic_stability': '25', 'education': 'Com...\n",
      "20     {'economic_stability': '19', 'education': None...\n",
      "21     {'economic_stability': '24', 'education': 'Com...\n",
      "22     {'economic_stability': '24', 'education': 'Com...\n",
      "23     {'economic_stability': '15', 'education': None...\n",
      "24     {'economic_stability': '15', 'education': 'Com...\n",
      "25     {'economic_stability': '27', 'education': 'Com...\n",
      "26     {'economic_stability': '17', 'education': 'Com...\n",
      "27     {'economic_stability': '29', 'education': 'Com...\n",
      "28     {'economic_stability': '13', 'education': 'Com...\n",
      "29     {'economic_stability': '23', 'education': None...\n",
      "...                                                  ...\n",
      "99970  {'economic_stability': '21', 'education': None...\n",
      "99971  {'economic_stability': '03', 'education': 'Com...\n",
      "99972  {'economic_stability': '18', 'education': 'Com...\n",
      "99973  {'economic_stability': '06', 'education': 'Com...\n",
      "99974  {'economic_stability': '10', 'education': 'Com...\n",
      "99975  {'economic_stability': '12', 'education': 'Com...\n",
      "99976  {'economic_stability': '27', 'education': 'Com...\n",
      "99977  {'economic_stability': '13', 'education': 'Com...\n",
      "99978  {'economic_stability': '08', 'education': 'Com...\n",
      "99979  {'economic_stability': '18', 'education': 'Com...\n",
      "99980  {'economic_stability': '10', 'education': 'Com...\n",
      "99981  {'economic_stability': '07', 'education': 'Com...\n",
      "99982  {'economic_stability': '01', 'education': None...\n",
      "99983  {'economic_stability': '06', 'education': 'Com...\n",
      "99984  {'economic_stability': '06', 'education': 'Com...\n",
      "99985  {'economic_stability': '08', 'education': 'Com...\n",
      "99986  {'economic_stability': '09', 'education': 'Com...\n",
      "99987  {'economic_stability': '16', 'education': 'Com...\n",
      "99988  {'economic_stability': '16', 'education': 'Com...\n",
      "99989  {'economic_stability': '03', 'education': 'Com...\n",
      "99990  {'economic_stability': '23', 'education': 'Com...\n",
      "99991  {'economic_stability': '21', 'education': 'Com...\n",
      "99992  {'economic_stability': '03', 'education': 'Com...\n",
      "99993  {'economic_stability': '10', 'education': 'Com...\n",
      "99994  {'economic_stability': '12', 'education': 'Com...\n",
      "99995  {'economic_stability': '11', 'education': 'Com...\n",
      "99996  {'economic_stability': '09', 'education': 'Com...\n",
      "99997  {'economic_stability': '11', 'education': 'Com...\n",
      "99998  {'economic_stability': '07', 'education': 'Com...\n",
      "99999  {'economic_stability': '11', 'education': 'Com...\n",
      "\n",
      "[100000 rows x 1 columns]\n"
     ]
    }
   ],
   "source": [
    "import numpy as np\n",
    "import pandas as pd\n",
    "import cv2 as cv\n",
    "from matplotlib import pyplot as plt\n",
    "import requests\n",
    "import json\n",
    "import csv\n",
    "\n",
    "r = requests.get('http://127.0.0.1:5000/api/all')\n",
    "x = r.json()\n",
    "df = pd.DataFrame(x)\n",
    "print(df)\n",
    "\n",
    "# df=pd.read_json('http://127.0.0.1:5000/api/all')\n",
    "# df.head()"
   ]
  },
  {
   "cell_type": "code",
   "execution_count": 26,
   "metadata": {},
   "outputs": [
    {
     "name": "stdout",
     "output_type": "stream",
     "text": [
      "200\n"
     ]
    }
   ],
   "source": [
    "import requests\n",
    "\n",
    "url = 'http://127.0.0.1:5000/api/all'\n",
    "r=requests.get(url)\n",
    "\n",
    "print(r.status_code)\n",
    "data_json= r.json()"
   ]
  },
  {
   "cell_type": "code",
   "execution_count": 38,
   "metadata": {
    "collapsed": true
   },
   "outputs": [],
   "source": [
    "pd.DataFrame(data_json).to_csv('data.csv', index=False)"
   ]
  },
  {
   "cell_type": "code",
   "execution_count": null,
   "metadata": {
    "collapsed": true
   },
   "outputs": [],
   "source": []
  }
 ],
 "metadata": {
  "kernelspec": {
   "display_name": "Python 3",
   "language": "python",
   "name": "python3"
  },
  "language_info": {
   "codemirror_mode": {
    "name": "ipython",
    "version": 3
   },
   "file_extension": ".py",
   "mimetype": "text/x-python",
   "name": "python",
   "nbconvert_exporter": "python",
   "pygments_lexer": "ipython3",
   "version": "3.6.3"
  }
 },
 "nbformat": 4,
 "nbformat_minor": 2
}
